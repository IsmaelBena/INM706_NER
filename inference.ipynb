{
 "cells": [
  {
   "cell_type": "markdown",
   "metadata": {},
   "source": [
    "# Inference Models"
   ]
  },
  {
   "cell_type": "code",
   "execution_count": 1,
   "metadata": {},
   "outputs": [
    {
     "name": "stdout",
     "output_type": "stream",
     "text": [
      "Device: cuda\n"
     ]
    }
   ],
   "source": [
    "# imports\n",
    "\n",
    "from dataset import LocalDataset, NERDataset\n",
    "from baseline_lstm import LSTM_Model\n",
    "from bidirectional_lstm import BiLSTM_Model\n",
    "\n",
    "from torch.utils.data import DataLoader\n",
    "import torch\n",
    "import torch.nn as nn\n",
    "import numpy as np\n",
    "import pickle\n",
    "import os\n",
    "import yaml\n",
    "\n",
    "if torch.cuda.is_available():\n",
    "    device = torch.device('cuda')\n",
    "else:\n",
    "    device = torch.device('cpu')\n",
    "\n",
    "print(f'Device: {device}')\n",
    "\n",
    "checkpoint_dir = os.path.join(os.getcwd(), \"checkpoints\")\n"
   ]
  },
  {
   "cell_type": "markdown",
   "metadata": {},
   "source": [
    "## Loading the Dataset"
   ]
  },
  {
   "cell_type": "code",
   "execution_count": 11,
   "metadata": {},
   "outputs": [
    {
     "name": "stdout",
     "output_type": "stream",
     "text": [
      "Loading local csv from: e:\\Uni\\MSc AI\\INM706-Sequential-Analysis\\INM706_NER\\dataset\n",
      "35178\n"
     ]
    }
   ],
   "source": [
    "local_raw_dataset = LocalDataset('dataset')\n",
    "local_raw_dataset.loadDataset()\n",
    "local_data_dict = local_raw_dataset.prepareDataset()\n",
    "\n",
    "label_ids = local_data_dict[\"label_ids\"]\n",
    "vocab = local_data_dict[\"vocab\"]\n",
    "tags = list(label_ids.keys())\n",
    "test_dataset = NERDataset((local_data_dict[\"test_sentences\"], local_data_dict[\"test_labels\"]))\n",
    "\n",
    "test_dataloader = DataLoader(test_dataset, batch_size=32, shuffle=True)"
   ]
  },
  {
   "cell_type": "code",
   "execution_count": 19,
   "metadata": {},
   "outputs": [
    {
     "name": "stdout",
     "output_type": "stream",
     "text": [
      "torch.Size([104])\n",
      "torch.Size([104])\n"
     ]
    }
   ],
   "source": [
    "# Get the first sentence and labels in the test dataset\n",
    "\n",
    "for sentences, labels in test_dataloader:\n",
    "    sentence = sentences[20]\n",
    "    label = labels[20]\n",
    "    break\n",
    "\n",
    "print(sentence.shape)\n",
    "print(label.shape)"
   ]
  },
  {
   "cell_type": "markdown",
   "metadata": {},
   "source": [
    "# Baseline Model"
   ]
  },
  {
   "cell_type": "code",
   "execution_count": 20,
   "metadata": {},
   "outputs": [
    {
     "name": "stdout",
     "output_type": "stream",
     "text": [
      "Output sentence:\n",
      "spokesman O\n",
      "task O\n",
      "asked O\n",
      "unemployment O\n",
      "Iraq O\n",
      "Possible B-geo\n",
      "wants O\n",
      "war O\n",
      "border B-gpe\n",
      "go O\n",
      "threatened O\n",
      "document O\n",
      "protest O\n",
      "sure O\n",
      "adhere O\n",
      "country O\n",
      "war O\n",
      "Central O\n",
      "jirga O\n",
      "challenges O\n",
      "candidate O\n",
      "stability O\n",
      "Families O\n"
     ]
    }
   ],
   "source": [
    "# get base lstm model and run it\n",
    "\n",
    "with open(f'{checkpoint_dir}\\\\LSTM_500ep.pkl', 'rb') as file:\n",
    "    baseline_lstm_model = pickle.load(file)\n",
    "\n",
    "\n",
    "lstm_input = torch.tensor(np.array([sentence]), device=device)\n",
    "baseline_lstm_model.eval()\n",
    "label_pred_scores = baseline_lstm_model(lstm_input)\n",
    "tag_preds = torch.argmax(label_pred_scores, dim=2)\n",
    "\n",
    "np_tags = tag_preds[0].cpu().numpy()\n",
    "\n",
    "\n",
    "print('Output sentence:')\n",
    "for ind, word in enumerate(sentence.numpy()):\n",
    "    if word > 0:\n",
    "        print(vocab[word], tags[np_tags[ind]])\n"
   ]
  },
  {
   "cell_type": "markdown",
   "metadata": {},
   "source": [
    "# Bidirectional Model"
   ]
  },
  {
   "cell_type": "code",
   "execution_count": 21,
   "metadata": {},
   "outputs": [
    {
     "name": "stdout",
     "output_type": "stream",
     "text": [
      "Output sentence:\n",
      "spokesman O\n",
      "task O\n",
      "asked O\n",
      "unemployment O\n",
      "Iraq O\n",
      "Possible B-geo\n",
      "wants O\n",
      "war O\n",
      "border B-gpe\n",
      "go O\n",
      "threatened O\n",
      "document O\n",
      "protest O\n",
      "sure O\n",
      "adhere O\n",
      "country O\n",
      "war O\n",
      "Central O\n",
      "jirga O\n",
      "challenges O\n",
      "candidate O\n",
      "stability O\n",
      "Families O\n"
     ]
    }
   ],
   "source": [
    "# get bidirectional lstm model and run it\n",
    "\n",
    "with open(f'{checkpoint_dir}\\\\biLSTM_500ep.pkl', 'rb') as file:\n",
    "    bi_lstm_model = pickle.load(file)\n",
    "\n",
    "\n",
    "bilstm_input = torch.tensor(np.array([sentence]), device=device)\n",
    "bi_lstm_model.eval()\n",
    "label_pred_scores = bi_lstm_model(bilstm_input)\n",
    "tag_preds = torch.argmax(label_pred_scores, dim=2)\n",
    "\n",
    "np_tags = tag_preds[0].cpu().numpy()\n",
    "\n",
    "print('Output sentence:')\n",
    "for ind, word in enumerate(sentence.numpy()):\n",
    "    if word > 0:\n",
    "        print(vocab[word], tags[np_tags[ind]])\n"
   ]
  },
  {
   "cell_type": "markdown",
   "metadata": {},
   "source": []
  }
 ],
 "metadata": {
  "kernelspec": {
   "display_name": "INM706_cw_env",
   "language": "python",
   "name": "python3"
  },
  "language_info": {
   "codemirror_mode": {
    "name": "ipython",
    "version": 3
   },
   "file_extension": ".py",
   "mimetype": "text/x-python",
   "name": "python",
   "nbconvert_exporter": "python",
   "pygments_lexer": "ipython3",
   "version": "3.9.5"
  }
 },
 "nbformat": 4,
 "nbformat_minor": 2
}
